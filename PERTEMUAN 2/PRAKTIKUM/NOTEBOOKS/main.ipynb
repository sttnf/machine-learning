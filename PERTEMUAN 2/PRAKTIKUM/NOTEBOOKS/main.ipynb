{
 "cells": [
  {
   "cell_type": "code",
   "id": "initial_id",
   "metadata": {
    "collapsed": true,
    "ExecuteTime": {
     "end_time": "2025-09-30T06:14:29.272998Z",
     "start_time": "2025-09-30T06:14:27.050950Z"
    }
   },
   "source": [
    "\n",
    "import matplotlib.pyplot as plt\n",
    "import pandas as pd\n",
    "\n",
    "df = pd.read_csv(\"../data/500_Person_Gender_Height_Weight_Index.csv\")\n",
    "\n",
    "df"
   ],
   "outputs": [
    {
     "data": {
      "text/plain": [
       "     Gender  Height  Weight  Index\n",
       "0      Male     174      96      4\n",
       "1      Male     189      87      2\n",
       "2    Female     185     110      4\n",
       "3    Female     195     104      3\n",
       "4      Male     149      61      3\n",
       "..      ...     ...     ...    ...\n",
       "495  Female     150     153      5\n",
       "496  Female     184     121      4\n",
       "497  Female     141     136      5\n",
       "498    Male     150      95      5\n",
       "499    Male     173     131      5\n",
       "\n",
       "[500 rows x 4 columns]"
      ],
      "text/html": [
       "<div>\n",
       "<style scoped>\n",
       "    .dataframe tbody tr th:only-of-type {\n",
       "        vertical-align: middle;\n",
       "    }\n",
       "\n",
       "    .dataframe tbody tr th {\n",
       "        vertical-align: top;\n",
       "    }\n",
       "\n",
       "    .dataframe thead th {\n",
       "        text-align: right;\n",
       "    }\n",
       "</style>\n",
       "<table border=\"1\" class=\"dataframe\">\n",
       "  <thead>\n",
       "    <tr style=\"text-align: right;\">\n",
       "      <th></th>\n",
       "      <th>Gender</th>\n",
       "      <th>Height</th>\n",
       "      <th>Weight</th>\n",
       "      <th>Index</th>\n",
       "    </tr>\n",
       "  </thead>\n",
       "  <tbody>\n",
       "    <tr>\n",
       "      <th>0</th>\n",
       "      <td>Male</td>\n",
       "      <td>174</td>\n",
       "      <td>96</td>\n",
       "      <td>4</td>\n",
       "    </tr>\n",
       "    <tr>\n",
       "      <th>1</th>\n",
       "      <td>Male</td>\n",
       "      <td>189</td>\n",
       "      <td>87</td>\n",
       "      <td>2</td>\n",
       "    </tr>\n",
       "    <tr>\n",
       "      <th>2</th>\n",
       "      <td>Female</td>\n",
       "      <td>185</td>\n",
       "      <td>110</td>\n",
       "      <td>4</td>\n",
       "    </tr>\n",
       "    <tr>\n",
       "      <th>3</th>\n",
       "      <td>Female</td>\n",
       "      <td>195</td>\n",
       "      <td>104</td>\n",
       "      <td>3</td>\n",
       "    </tr>\n",
       "    <tr>\n",
       "      <th>4</th>\n",
       "      <td>Male</td>\n",
       "      <td>149</td>\n",
       "      <td>61</td>\n",
       "      <td>3</td>\n",
       "    </tr>\n",
       "    <tr>\n",
       "      <th>...</th>\n",
       "      <td>...</td>\n",
       "      <td>...</td>\n",
       "      <td>...</td>\n",
       "      <td>...</td>\n",
       "    </tr>\n",
       "    <tr>\n",
       "      <th>495</th>\n",
       "      <td>Female</td>\n",
       "      <td>150</td>\n",
       "      <td>153</td>\n",
       "      <td>5</td>\n",
       "    </tr>\n",
       "    <tr>\n",
       "      <th>496</th>\n",
       "      <td>Female</td>\n",
       "      <td>184</td>\n",
       "      <td>121</td>\n",
       "      <td>4</td>\n",
       "    </tr>\n",
       "    <tr>\n",
       "      <th>497</th>\n",
       "      <td>Female</td>\n",
       "      <td>141</td>\n",
       "      <td>136</td>\n",
       "      <td>5</td>\n",
       "    </tr>\n",
       "    <tr>\n",
       "      <th>498</th>\n",
       "      <td>Male</td>\n",
       "      <td>150</td>\n",
       "      <td>95</td>\n",
       "      <td>5</td>\n",
       "    </tr>\n",
       "    <tr>\n",
       "      <th>499</th>\n",
       "      <td>Male</td>\n",
       "      <td>173</td>\n",
       "      <td>131</td>\n",
       "      <td>5</td>\n",
       "    </tr>\n",
       "  </tbody>\n",
       "</table>\n",
       "<p>500 rows × 4 columns</p>\n",
       "</div>"
      ]
     },
     "execution_count": 2,
     "metadata": {},
     "output_type": "execute_result"
    }
   ],
   "execution_count": 2
  },
  {
   "metadata": {},
   "cell_type": "markdown",
   "source": "# Melihat Informasi Umum Data",
   "id": "e4517693ea39743d"
  },
  {
   "metadata": {},
   "cell_type": "code",
   "source": "df.info()",
   "id": "72288effdebea04a",
   "outputs": [],
   "execution_count": null
  },
  {
   "metadata": {},
   "cell_type": "markdown",
   "source": "# Menghitung Nilai-Nilai Sentral (Mean, Median, Modus):",
   "id": "bebbdfabb6ba14aa"
  },
  {
   "metadata": {},
   "cell_type": "code",
   "source": "df['Height'].mean()",
   "id": "e5a27d33b4fa1b6f",
   "outputs": [],
   "execution_count": null
  },
  {
   "metadata": {},
   "cell_type": "code",
   "source": "df['Height'].median()",
   "id": "3ee97bb43a26716e",
   "outputs": [],
   "execution_count": null
  },
  {
   "metadata": {},
   "cell_type": "code",
   "source": "df['Height'].mode()",
   "id": "86322ab36ea450a",
   "outputs": [],
   "execution_count": null
  },
  {
   "metadata": {},
   "cell_type": "markdown",
   "source": "# Menghitung Ukuran Persebaran (Variansi & Standar Deviasi):",
   "id": "817ee23baaf9e764"
  },
  {
   "metadata": {},
   "cell_type": "code",
   "source": "df.var(numeric_only=True)",
   "id": "2bf617f8a70334b6",
   "outputs": [],
   "execution_count": null
  },
  {
   "metadata": {},
   "cell_type": "code",
   "source": "df.std(numeric_only=True)",
   "id": "a84bef32ce305857",
   "outputs": [],
   "execution_count": null
  },
  {
   "metadata": {},
   "cell_type": "markdown",
   "source": "# Menghitung Kuartil:",
   "id": "8e906f34a91729a"
  },
  {
   "metadata": {},
   "cell_type": "code",
   "source": [
    "q1 = df['Height'].quantile(0.25)\n",
    "print(\"Q1 (25th percentile):\", q1)\n",
    "\n",
    "q3 = df['Height'].quantile(0.75)\n",
    "print(\"Q3 (75th percentile):\", q3)\n",
    "\n",
    "# IQR (Interquartile Range)\n",
    "iqr = q3 - q1\n",
    "print(\"IQR:\", iqr)\n"
   ],
   "id": "7d1567a328e1c48e",
   "outputs": [],
   "execution_count": null
  },
  {
   "metadata": {},
   "cell_type": "markdown",
   "source": "# Menghitung Statistik Deskriptif Otomatis:",
   "id": "a8fb7ce653bb059f"
  },
  {
   "metadata": {},
   "cell_type": "code",
   "source": "df.describe()",
   "id": "bb21c5ef58e7f00d",
   "outputs": [],
   "execution_count": null
  },
  {
   "metadata": {},
   "cell_type": "markdown",
   "source": "# Menghitung Korelasi:",
   "id": "efd7674049d5900c"
  },
  {
   "metadata": {},
   "cell_type": "code",
   "source": [
    "correlation_matrix = df.corr(numeric_only=True)\n",
    "\n",
    "print(\"Matriks Korelasi:\")\n",
    "print(correlation_matrix)"
   ],
   "id": "6aeeb595663ecfd7",
   "outputs": [],
   "execution_count": null
  },
  {
   "metadata": {},
   "cell_type": "markdown",
   "source": "# Visualisasi Data",
   "id": "92fa0dd18d691f8d"
  },
  {
   "metadata": {},
   "cell_type": "markdown",
   "source": "## Boxplot",
   "id": "e15b474685c0fc6"
  },
  {
   "metadata": {
    "ExecuteTime": {
     "end_time": "2025-09-30T06:14:34.361391Z",
     "start_time": "2025-09-30T06:14:34.213078Z"
    }
   },
   "cell_type": "code",
   "source": "df.boxplot(column=['Height', 'Weight'])",
   "id": "6404c34d295e4027",
   "outputs": [
    {
     "data": {
      "text/plain": [
       "<Axes: >"
      ]
     },
     "execution_count": 3,
     "metadata": {},
     "output_type": "execute_result"
    },
    {
     "data": {
      "text/plain": [
       "<Figure size 640x480 with 1 Axes>"
      ],
      "image/png": "[encoded data removed]"
     },
     "metadata": {},
     "output_type": "display_data"
    }
   ],
   "execution_count": 3
  },
  {
   "metadata": {},
   "cell_type": "markdown",
   "source": "## Histogram",
   "id": "c8c3515f0e57e714"
  },
  {
   "metadata": {
    "ExecuteTime": {
     "end_time": "2025-09-30T06:15:03.448375Z",
     "start_time": "2025-09-30T06:15:03.350200Z"
    }
   },
   "cell_type": "code",
   "source": [
    "data_height = df['Height']\n",
    "\n",
    "n, bins, patches = plt.hist(data_height, bins=5, color='pink', edgecolor='black')\n",
    "\n",
    "plt.title(\"Histogram Tinggi\")\n",
    "plt.xlabel(\"Tinggi (cm)\")\n",
    "plt.ylabel(\"Jumlah Person\")\n",
    "\n",
    "#  Frekuensi di sumbu x\n",
    "bin_centers = 0.5 * (bins[1:] + bins[:-1])\n",
    "plt.xticks(bin_centers, ['{:.0f}-{:.0f}'.format(\n",
    "    bins[i], bins[i + 1]) for i in range(len(bins) - 1\n",
    "                                         )])\n",
    "\n",
    "plt.show()"
   ],
   "id": "817506dfca25c3ca",
   "outputs": [
    {
     "data": {
      "text/plain": [
       "<Figure size 640x480 with 1 Axes>"
      ],
      "image/png": "[encoded data removed]"
     },
     "metadata": {},
     "output_type": "display_data"
    }
   ],
   "execution_count": 4
  },
  {
   "metadata": {},
   "cell_type": "markdown",
   "source": "## Scatter Plot (Hubungan Antar Variabel):",
   "id": "e5594a9fff94630a"
  },
  {
   "metadata": {
    "ExecuteTime": {
     "end_time": "2025-09-29T05:04:43.327795Z",
     "start_time": "2025-09-29T05:04:43.245416Z"
    }
   },
   "cell_type": "code",
   "source": [
    "data = {\n",
    "    'Nilai 1': [1, 2, 3, 4, 5, 6, 7, 8, 9, 10],\n",
    "    'Nilai 2': [2, 4, 6, 8, 10, 12, 14, 16, 18, 20]\n",
    "}\n",
    "\n",
    "df2 = pd.DataFrame(data)\n",
    "\n",
    "plt.scatter(df2['Nilai 1'], df2['Nilai 2'], color='red', marker='o')\n",
    "\n",
    "plt.title(\"Scatter Plot Nilai 1 vs Nilai2\")\n",
    "plt.xlabel(\"Nilai 1\")\n",
    "plt.ylabel(\"Nilai 2\")\n",
    "\n",
    "plt.grid(True)\n",
    "\n",
    "plt.show()"
   ],
   "id": "79a051cd1f14c677",
   "outputs": [
    {
     "data": {
      "text/plain": [
       "<Figure size 640x480 with 1 Axes>"
      ],
      "image/png": "[encoded data removed]"
     },
     "metadata": {},
     "output_type": "display_data"
    }
   ],
   "execution_count": 6
  },
  {
   "metadata": {
    "ExecuteTime": {
     "end_time": "2025-09-30T06:49:46.255012Z",
     "start_time": "2025-09-30T06:49:46.070849Z"
    }
   },
   "cell_type": "code",
   "source": [
    "data = {\n",
    "    'Nilai 1': [1, 2, 3, 4, 5, 6, 7, 8, 9, 10],\n",
    "    'Nilai 2': [10, 9, 8, 7, 6, 5, 4, 3, 2, 1]\n",
    "}\n",
    "\n",
    "df2 = pd.DataFrame(data)\n",
    "\n",
    "plt.scatter(df2['Nilai 1'], df2['Nilai 2'], color='red', marker='x')\n",
    "\n",
    "plt.title(\"Scatter Plot Nilai 1 vs Nilai2\")\n",
    "plt.xlabel(\"Nilai 1\")\n",
    "plt.ylabel(\"Nilai 2\")\n",
    "\n",
    "plt.grid(True)\n",
    "\n",
    "plt.show()"
   ],
   "id": "4ac6168946cb2bb0",
   "outputs": [
    {
     "data": {
      "text/plain": [
       "<Figure size 640x480 with 1 Axes>"
      ],
      "image/png": "[encoded data removed]"
     },
     "metadata": {},
     "output_type": "display_data"
    }
   ],
   "execution_count": 5
  }
 ],
 "metadata": {
  "kernelspec": {
   "display_name": "Python 3",
   "language": "python",
   "name": "python3"
  },
  "language_info": {
   "codemirror_mode": {
    "name": "ipython",
    "version": 2
   },
   "file_extension": ".py",
   "mimetype": "text/x-python",
   "name": "python",
   "nbconvert_exporter": "python",
   "pygments_lexer": "ipython2",
   "version": "2.7.6"
  }
 },
 "nbformat": 4,
 "nbformat_minor": 5
}
