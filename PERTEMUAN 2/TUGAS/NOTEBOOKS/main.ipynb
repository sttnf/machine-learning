{
 "cells": [
  {
   "metadata": {
    "ExecuteTime": {
     "end_time": "2025-10-04T13:15:57.504983Z",
     "start_time": "2025-10-04T13:15:53.148442Z"
    }
   },
   "cell_type": "code",
   "source": [
    "import pandas as pd\n",
    "from sklearn.model_selection import train_test_split\n",
    "\n",
    "df = pd.read_csv(\"../DATA/day.csv\")\n",
    "\n",
    "# Data train (80%)\n",
    "train_data, temp_data = train_test_split(df, test_size=0.2, random_state=42)\n",
    "\n",
    "# Data validasi (10%) dan data testing (10%)\n",
    "val_data, test_data = train_test_split(temp_data, test_size=0.5, random_state=42)\n",
    "\n",
    "print(\"Data train:\", train_data.shape)\n",
    "print(\"Data validasi:\", val_data.shape)\n",
    "print(\"Data testing:\", test_data.shape)\n"
   ],
   "id": "f5cc6d98bea07c90",
   "outputs": [
    {
     "name": "stdout",
     "output_type": "stream",
     "text": [
      "Data train: (584, 16)\n",
      "Data validasi: (73, 16)\n",
      "Data testing: (74, 16)\n"
     ]
    }
   ],
   "execution_count": 1
  }
 ],
 "metadata": {
  "kernelspec": {
   "display_name": "Python 3",
   "language": "python",
   "name": "python3"
  },
  "language_info": {
   "codemirror_mode": {
    "name": "ipython",
    "version": 2
   },
   "file_extension": ".py",
   "mimetype": "text/x-python",
   "name": "python",
   "nbconvert_exporter": "python",
   "pygments_lexer": "ipython2",
   "version": "2.7.6"
  }
 },
 "nbformat": 4,
 "nbformat_minor": 5
}
